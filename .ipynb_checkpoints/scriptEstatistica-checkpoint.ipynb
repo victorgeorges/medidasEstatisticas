{
 "cells": [
  {
   "cell_type": "code",
   "execution_count": null,
   "id": "2a854f49",
   "metadata": {},
   "outputs": [],
   "source": [
    "from statistics import median\n",
    "import pandas as pd\n",
    "import matplotlib.pyplot as plt\n",
    "\n",
    "\n",
    "df4 = pd.read_csv('./Datasets/Rolamento_com_Falha/Full DE BAll.csv',delimiter=';') \n",
    "\n",
    "\n",
    "plt.figure(figsize =(20, 10))\n",
    "df4.boxplot()\n",
    "bplots=df4.boxplot()\n",
    "plt.show()\n",
    "\n",
    "plt.hist(df4, 10, rwidth=1.9)\n",
    "plt.show()\n",
    "\n",
    "\n",
    "somatoria =df4.sum()\n",
    "maximo = df4.max()\n",
    "minimo = df4.min()\n",
    "contar = df4.count()\n",
    "mediana = df4.median() \n",
    "media = df4.mean()\n",
    "desvpad = df4.std() \n",
    "variancia = df4.var() \n",
    "\n",
    "print ('\\n\\n Somatória: \\n ' + str(somatoria) + '\\n\\n\\n')\n",
    "print ('\\n\\n Máximo: \\n ' + str(maximo)+ '\\n\\n\\n')\n",
    "print ('\\n\\n Mínimo: \\n ' + str(minimo)+ '\\n\\n\\n')\n",
    "print ('\\n\\n Média:  \\n' + str(media)+ '\\n\\n\\n')\n",
    "print (' \\n\\n Mediana:  \\n' + str(mediana)+ '\\n\\n\\n')\n",
    "print ('\\n\\n Contar: \\n' + str(contar)+ '\\n\\n\\n')\n",
    "print ('\\n\\n Desvio Padrão:  \\n' + str(desvpad)+ '\\n\\n\\n')\n",
    "print ('\\n\\n Variância: \\n' + str(variancia)+ '\\n\\n\\n')\n",
    "\n",
    "\n"
   ]
  }
 ],
 "metadata": {
  "kernelspec": {
   "display_name": "Python 3",
   "language": "python",
   "name": "python3"
  },
  "language_info": {
   "codemirror_mode": {
    "name": "ipython",
    "version": 3
   },
   "file_extension": ".py",
   "mimetype": "text/x-python",
   "name": "python",
   "nbconvert_exporter": "python",
   "pygments_lexer": "ipython3",
   "version": "3.8.8"
  }
 },
 "nbformat": 4,
 "nbformat_minor": 5
}
